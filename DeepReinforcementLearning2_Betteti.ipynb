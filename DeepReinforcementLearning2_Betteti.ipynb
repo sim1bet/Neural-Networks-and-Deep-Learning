{
  "nbformat": 4,
  "nbformat_minor": 0,
  "metadata": {
    "colab": {
      "name": "DeepReinforcementLearning2_Betteti.ipynb",
      "provenance": [],
      "collapsed_sections": []
    },
    "kernelspec": {
      "name": "python3",
      "display_name": "Python 3"
    },
    "accelerator": "GPU",
    "widgets": {
      "application/vnd.jupyter.widget-state+json": {
        "b2505316a903404d8f354d63647b1dae": {
          "model_module": "@jupyter-widgets/controls",
          "model_name": "HBoxModel",
          "state": {
            "_view_name": "HBoxView",
            "_dom_classes": [],
            "_model_name": "HBoxModel",
            "_view_module": "@jupyter-widgets/controls",
            "_model_module_version": "1.5.0",
            "_view_count": null,
            "_view_module_version": "1.5.0",
            "box_style": "",
            "layout": "IPY_MODEL_8f0e81dfb2f7481d9ef9a160f302d86d",
            "_model_module": "@jupyter-widgets/controls",
            "children": [
              "IPY_MODEL_a1fc6a2f879243a1a2f6dbda95ef610f",
              "IPY_MODEL_19dd68c6cd3e4f81b3ccc89d0c9ba4c4"
            ]
          },
          "model_module_version": "1.5.0"
        },
        "8f0e81dfb2f7481d9ef9a160f302d86d": {
          "model_module": "@jupyter-widgets/base",
          "model_name": "LayoutModel",
          "state": {
            "_view_name": "LayoutView",
            "grid_template_rows": null,
            "right": null,
            "justify_content": null,
            "_view_module": "@jupyter-widgets/base",
            "overflow": null,
            "_model_module_version": "1.2.0",
            "_view_count": null,
            "flex_flow": null,
            "width": null,
            "min_width": null,
            "border": null,
            "align_items": null,
            "bottom": null,
            "_model_module": "@jupyter-widgets/base",
            "top": null,
            "grid_column": null,
            "overflow_y": null,
            "overflow_x": null,
            "grid_auto_flow": null,
            "grid_area": null,
            "grid_template_columns": null,
            "flex": null,
            "_model_name": "LayoutModel",
            "justify_items": null,
            "grid_row": null,
            "max_height": null,
            "align_content": null,
            "visibility": null,
            "align_self": null,
            "height": null,
            "min_height": null,
            "padding": null,
            "grid_auto_rows": null,
            "grid_gap": null,
            "max_width": null,
            "order": null,
            "_view_module_version": "1.2.0",
            "grid_template_areas": null,
            "object_position": null,
            "object_fit": null,
            "grid_auto_columns": null,
            "margin": null,
            "display": null,
            "left": null
          },
          "model_module_version": "1.2.0"
        },
        "a1fc6a2f879243a1a2f6dbda95ef610f": {
          "model_module": "@jupyter-widgets/controls",
          "model_name": "FloatProgressModel",
          "state": {
            "_view_name": "ProgressView",
            "style": "IPY_MODEL_17f6eb10c43b40669a5ad50182c27c98",
            "_dom_classes": [],
            "description": "  2%",
            "_model_name": "FloatProgressModel",
            "bar_style": "",
            "max": 500,
            "_view_module": "@jupyter-widgets/controls",
            "_model_module_version": "1.5.0",
            "value": 9,
            "_view_count": null,
            "_view_module_version": "1.5.0",
            "orientation": "horizontal",
            "min": 0,
            "description_tooltip": null,
            "_model_module": "@jupyter-widgets/controls",
            "layout": "IPY_MODEL_4762d47fa0834728b6d5081848ec5d9c"
          },
          "model_module_version": "1.5.0"
        },
        "19dd68c6cd3e4f81b3ccc89d0c9ba4c4": {
          "model_module": "@jupyter-widgets/controls",
          "model_name": "HTMLModel",
          "state": {
            "_view_name": "HTMLView",
            "style": "IPY_MODEL_cf4e0ea0ef744023a12f2a596a8feeac",
            "_dom_classes": [],
            "description": "",
            "_model_name": "HTMLModel",
            "placeholder": "​",
            "_view_module": "@jupyter-widgets/controls",
            "_model_module_version": "1.5.0",
            "value": " 9/500 [00:25&lt;21:22,  2.61s/it]",
            "_view_count": null,
            "_view_module_version": "1.5.0",
            "description_tooltip": null,
            "_model_module": "@jupyter-widgets/controls",
            "layout": "IPY_MODEL_f54d152ed8ad420ea64b6d4d0fd07fb0"
          },
          "model_module_version": "1.5.0"
        },
        "17f6eb10c43b40669a5ad50182c27c98": {
          "model_module": "@jupyter-widgets/controls",
          "model_name": "ProgressStyleModel",
          "state": {
            "_view_name": "StyleView",
            "_model_name": "ProgressStyleModel",
            "description_width": "initial",
            "_view_module": "@jupyter-widgets/base",
            "_model_module_version": "1.5.0",
            "_view_count": null,
            "_view_module_version": "1.2.0",
            "bar_color": null,
            "_model_module": "@jupyter-widgets/controls"
          },
          "model_module_version": "1.5.0"
        },
        "4762d47fa0834728b6d5081848ec5d9c": {
          "model_module": "@jupyter-widgets/base",
          "model_name": "LayoutModel",
          "state": {
            "_view_name": "LayoutView",
            "grid_template_rows": null,
            "right": null,
            "justify_content": null,
            "_view_module": "@jupyter-widgets/base",
            "overflow": null,
            "_model_module_version": "1.2.0",
            "_view_count": null,
            "flex_flow": null,
            "width": null,
            "min_width": null,
            "border": null,
            "align_items": null,
            "bottom": null,
            "_model_module": "@jupyter-widgets/base",
            "top": null,
            "grid_column": null,
            "overflow_y": null,
            "overflow_x": null,
            "grid_auto_flow": null,
            "grid_area": null,
            "grid_template_columns": null,
            "flex": null,
            "_model_name": "LayoutModel",
            "justify_items": null,
            "grid_row": null,
            "max_height": null,
            "align_content": null,
            "visibility": null,
            "align_self": null,
            "height": null,
            "min_height": null,
            "padding": null,
            "grid_auto_rows": null,
            "grid_gap": null,
            "max_width": null,
            "order": null,
            "_view_module_version": "1.2.0",
            "grid_template_areas": null,
            "object_position": null,
            "object_fit": null,
            "grid_auto_columns": null,
            "margin": null,
            "display": null,
            "left": null
          },
          "model_module_version": "1.2.0"
        },
        "cf4e0ea0ef744023a12f2a596a8feeac": {
          "model_module": "@jupyter-widgets/controls",
          "model_name": "DescriptionStyleModel",
          "state": {
            "_view_name": "StyleView",
            "_model_name": "DescriptionStyleModel",
            "description_width": "",
            "_view_module": "@jupyter-widgets/base",
            "_model_module_version": "1.5.0",
            "_view_count": null,
            "_view_module_version": "1.2.0",
            "_model_module": "@jupyter-widgets/controls"
          },
          "model_module_version": "1.5.0"
        },
        "f54d152ed8ad420ea64b6d4d0fd07fb0": {
          "model_module": "@jupyter-widgets/base",
          "model_name": "LayoutModel",
          "state": {
            "_view_name": "LayoutView",
            "grid_template_rows": null,
            "right": null,
            "justify_content": null,
            "_view_module": "@jupyter-widgets/base",
            "overflow": null,
            "_model_module_version": "1.2.0",
            "_view_count": null,
            "flex_flow": null,
            "width": null,
            "min_width": null,
            "border": null,
            "align_items": null,
            "bottom": null,
            "_model_module": "@jupyter-widgets/base",
            "top": null,
            "grid_column": null,
            "overflow_y": null,
            "overflow_x": null,
            "grid_auto_flow": null,
            "grid_area": null,
            "grid_template_columns": null,
            "flex": null,
            "_model_name": "LayoutModel",
            "justify_items": null,
            "grid_row": null,
            "max_height": null,
            "align_content": null,
            "visibility": null,
            "align_self": null,
            "height": null,
            "min_height": null,
            "padding": null,
            "grid_auto_rows": null,
            "grid_gap": null,
            "max_width": null,
            "order": null,
            "_view_module_version": "1.2.0",
            "grid_template_areas": null,
            "object_position": null,
            "object_fit": null,
            "grid_auto_columns": null,
            "margin": null,
            "display": null,
            "left": null
          },
          "model_module_version": "1.2.0"
        }
      }
    }
  },
  "cells": [
    {
      "cell_type": "markdown",
      "metadata": {
        "id": "f08CzNQB6GIN"
      },
      "source": [
        "# DEEP REINFORCEMENT LEARNING - CARTPOLE FROM PIXELS\n",
        "In this notebook I will explore an alternative deep architecture that is able to solve a reinforcement learning task, given that states consist in the pixels of our environment."
      ]
    },
    {
      "cell_type": "code",
      "metadata": {
        "colab": {
          "base_uri": "https://localhost:8080/"
        },
        "id": "5rR2_zoW57H_",
        "outputId": "00664414-b0ea-4cb6-fdc8-7067b37edb7f"
      },
      "source": [
        "!pip install gym"
      ],
      "execution_count": null,
      "outputs": [
        {
          "output_type": "stream",
          "text": [
            "Requirement already satisfied: gym in /usr/local/lib/python3.6/dist-packages (0.17.3)\n",
            "Requirement already satisfied: pyglet<=1.5.0,>=1.4.0 in /usr/local/lib/python3.6/dist-packages (from gym) (1.5.0)\n",
            "Requirement already satisfied: scipy in /usr/local/lib/python3.6/dist-packages (from gym) (1.4.1)\n",
            "Requirement already satisfied: numpy>=1.10.4 in /usr/local/lib/python3.6/dist-packages (from gym) (1.19.5)\n",
            "Requirement already satisfied: cloudpickle<1.7.0,>=1.2.0 in /usr/local/lib/python3.6/dist-packages (from gym) (1.3.0)\n",
            "Requirement already satisfied: future in /usr/local/lib/python3.6/dist-packages (from pyglet<=1.5.0,>=1.4.0->gym) (0.16.0)\n"
          ],
          "name": "stdout"
        }
      ]
    },
    {
      "cell_type": "code",
      "metadata": {
        "id": "MzqtYM8e7ZYF"
      },
      "source": [
        "import random\n",
        "import torch\n",
        "import numpy as np\n",
        "import PIL.ImageOps\n",
        "import gym\n",
        "import matplotlib.pyplot as plt\n",
        "from tqdm.notebook import tqdm\n",
        "\n",
        "from torch import nn\n",
        "from torchvision import transforms\n",
        "from collections import deque\n",
        "from gym import spaces"
      ],
      "execution_count": null,
      "outputs": []
    },
    {
      "cell_type": "code",
      "metadata": {
        "colab": {
          "base_uri": "https://localhost:8080/"
        },
        "id": "jOTQfXNz7bxa",
        "outputId": "e2ef3237-7591-4dcf-c2f3-b49c72bbd4b4"
      },
      "source": [
        "!apt update\n",
        "!apt-get install python-opengl -y\n",
        "!apt install xvfb -y\n",
        "!pip install pyvirtualdisplay\n",
        "!pip install piglet"
      ],
      "execution_count": null,
      "outputs": [
        {
          "output_type": "stream",
          "text": [
            "\u001b[33m\r0% [Working]\u001b[0m\r            \rHit:1 https://cloud.r-project.org/bin/linux/ubuntu bionic-cran40/ InRelease\n",
            "\u001b[33m\r0% [Connecting to archive.ubuntu.com (91.189.88.142)] [Connecting to security.u\u001b[0m\r                                                                               \rIgn:2 https://developer.download.nvidia.com/compute/cuda/repos/ubuntu1804/x86_64  InRelease\n",
            "Ign:3 https://developer.download.nvidia.com/compute/machine-learning/repos/ubuntu1804/x86_64  InRelease\n",
            "Hit:4 https://developer.download.nvidia.com/compute/cuda/repos/ubuntu1804/x86_64  Release\n",
            "Hit:5 https://developer.download.nvidia.com/compute/machine-learning/repos/ubuntu1804/x86_64  Release\n",
            "Get:6 http://ppa.launchpad.net/c2d4u.team/c2d4u4.0+/ubuntu bionic InRelease [15.9 kB]\n",
            "Hit:7 http://archive.ubuntu.com/ubuntu bionic InRelease\n",
            "Get:9 http://security.ubuntu.com/ubuntu bionic-security InRelease [88.7 kB]\n",
            "Get:10 http://archive.ubuntu.com/ubuntu bionic-updates InRelease [88.7 kB]\n",
            "Hit:12 http://ppa.launchpad.net/cran/libgit2/ubuntu bionic InRelease\n",
            "Get:13 http://archive.ubuntu.com/ubuntu bionic-backports InRelease [74.6 kB]\n",
            "Hit:14 http://ppa.launchpad.net/graphics-drivers/ppa/ubuntu bionic InRelease\n",
            "Get:15 http://ppa.launchpad.net/c2d4u.team/c2d4u4.0+/ubuntu bionic/main Sources [1,729 kB]\n",
            "Get:16 http://ppa.launchpad.net/c2d4u.team/c2d4u4.0+/ubuntu bionic/main amd64 Packages [885 kB]\n",
            "Fetched 2,882 kB in 3s (904 kB/s)\n",
            "Reading package lists... Done\n",
            "Building dependency tree       \n",
            "Reading state information... Done\n",
            "18 packages can be upgraded. Run 'apt list --upgradable' to see them.\n",
            "Reading package lists... Done\n",
            "Building dependency tree       \n",
            "Reading state information... Done\n",
            "python-opengl is already the newest version (3.1.0+dfsg-1).\n",
            "0 upgraded, 0 newly installed, 0 to remove and 18 not upgraded.\n",
            "Reading package lists... Done\n",
            "Building dependency tree       \n",
            "Reading state information... Done\n",
            "xvfb is already the newest version (2:1.19.6-1ubuntu4.8).\n",
            "0 upgraded, 0 newly installed, 0 to remove and 18 not upgraded.\n",
            "Requirement already satisfied: pyvirtualdisplay in /usr/local/lib/python3.6/dist-packages (2.0)\n",
            "Requirement already satisfied: EasyProcess in /usr/local/lib/python3.6/dist-packages (from pyvirtualdisplay) (0.3)\n",
            "Requirement already satisfied: piglet in /usr/local/lib/python3.6/dist-packages (1.0.0)\n",
            "Requirement already satisfied: piglet-templates in /usr/local/lib/python3.6/dist-packages (from piglet) (1.1.0)\n",
            "Requirement already satisfied: markupsafe in /usr/local/lib/python3.6/dist-packages (from piglet-templates->piglet) (1.1.1)\n",
            "Requirement already satisfied: attrs in /usr/local/lib/python3.6/dist-packages (from piglet-templates->piglet) (20.3.0)\n",
            "Requirement already satisfied: astunparse in /usr/local/lib/python3.6/dist-packages (from piglet-templates->piglet) (1.6.3)\n",
            "Requirement already satisfied: Parsley in /usr/local/lib/python3.6/dist-packages (from piglet-templates->piglet) (1.3)\n",
            "Requirement already satisfied: wheel<1.0,>=0.23.0 in /usr/local/lib/python3.6/dist-packages (from astunparse->piglet-templates->piglet) (0.36.2)\n",
            "Requirement already satisfied: six<2.0,>=1.6.1 in /usr/local/lib/python3.6/dist-packages (from astunparse->piglet-templates->piglet) (1.15.0)\n"
          ],
          "name": "stdout"
        }
      ]
    },
    {
      "cell_type": "code",
      "metadata": {
        "id": "SpzL2suQ7gCG"
      },
      "source": [
        "import glob\n",
        "import io\n",
        "import base64\n",
        "import os\n",
        "from IPython.display import HTML\n",
        "from IPython import display as ipythondisplay\n",
        "from pyvirtualdisplay import Display\n",
        "from gym.wrappers import Monitor"
      ],
      "execution_count": null,
      "outputs": []
    },
    {
      "cell_type": "markdown",
      "metadata": {
        "id": "Nok6MnsZMVfX"
      },
      "source": [
        "Definition of the display.\n"
      ]
    },
    {
      "cell_type": "code",
      "metadata": {
        "id": "9L6-iFqD_wT9",
        "colab": {
          "base_uri": "https://localhost:8080/"
        },
        "outputId": "e63f6bca-1978-469f-fe3f-2b728f5b37df"
      },
      "source": [
        "display = Display(visible=0, size=(1400, 900))\n",
        "display.start()"
      ],
      "execution_count": null,
      "outputs": [
        {
          "output_type": "execute_result",
          "data": {
            "text/plain": [
              "<pyvirtualdisplay.display.Display at 0x7f5ff2476cf8>"
            ]
          },
          "metadata": {
            "tags": []
          },
          "execution_count": 5
        }
      ]
    },
    {
      "cell_type": "code",
      "metadata": {
        "id": "_IWOL91K_xBy"
      },
      "source": [
        "\"\"\"\n",
        "Utility functions to enable video recording of gym environment and displaying it\n",
        "To enable video, just do \"env = wrap_env(env)\"\"\n",
        "\"\"\"\n",
        "\n",
        "def show_videos():\n",
        "  mp4list = glob.glob('video/*.mp4')\n",
        "  mp4list.sort()\n",
        "  for mp4 in mp4list:\n",
        "    print(f\"\\nSHOWING VIDEO {mp4}\")\n",
        "    video = io.open(mp4, 'r+b').read()\n",
        "    encoded = base64.b64encode(video)\n",
        "    ipythondisplay.display(HTML(data='''<video alt=\"test\" autoplay \n",
        "                loop controls style=\"height: 400px;\">\n",
        "                <source src=\"data:video/mp4;base64,{0}\" type=\"video/mp4\" />\n",
        "             </video>'''.format(encoded.decode('ascii'))))\n",
        "    \n",
        "def wrap_env(env, video_callable=None):\n",
        "  env = Monitor(env, './video', force=True, video_callable=video_callable)\n",
        "  return env"
      ],
      "execution_count": null,
      "outputs": []
    },
    {
      "cell_type": "code",
      "metadata": {
        "id": "GI-uAFa4CFS1",
        "colab": {
          "base_uri": "https://localhost:8080/",
          "height": 269
        },
        "outputId": "b11b9d49-5405-488c-e101-f73f9b4bc9a5"
      },
      "source": [
        "env = gym.make('CartPole-v1')\n",
        "env.reset()\n",
        "img = env.render(mode=\"rgb_array\")\n",
        "plt.imshow(img)\n",
        "\n",
        "action_space_dim=env.action_space.n"
      ],
      "execution_count": null,
      "outputs": [
        {
          "output_type": "display_data",
          "data": {
            "image/png": "[encoded data removed]",
            "text/plain": [
              "<Figure size 432x288 with 1 Axes>"
            ]
          },
          "metadata": {
            "tags": [],
            "needs_background": "light"
          }
        }
      ]
    },
    {
      "cell_type": "code",
      "metadata": {
        "id": "nY_t40e8bTNd",
        "colab": {
          "base_uri": "https://localhost:8080/"
        },
        "outputId": "74bcd4de-0659-4074-e54b-0fbb01dcceb3"
      },
      "source": [
        "device = torch.device(\"cuda\") if torch.cuda.is_available() else torch.device(\"cpu\")\n",
        "print(f'Selected device: {device}')"
      ],
      "execution_count": null,
      "outputs": [
        {
          "output_type": "stream",
          "text": [
            "Selected device: cuda\n"
          ],
          "name": "stdout"
        }
      ]
    },
    {
      "cell_type": "markdown",
      "metadata": {
        "id": "IApp2vYXMfBx"
      },
      "source": [
        "Definition of prioritized experience replay (PER) memory."
      ]
    },
    {
      "cell_type": "code",
      "metadata": {
        "id": "UW-bW1Hx7sRY"
      },
      "source": [
        "class ReplayMemory(object):\n",
        "\n",
        "    def __init__(self, capacity, alpha=0.3):\n",
        "        self.memory = deque(maxlen=capacity) # Define a queue with maxlen \"capacity\"\n",
        "        self.priority = deque(maxlen=capacity)\n",
        "        self.alpha = alpha\n",
        "\n",
        "    def push(self, state, action, next_state, reward):\n",
        "        self.memory.append( (state, action, next_state, reward) ) # Add the tuple (state, action, next_state, reward) to the queue\n",
        "\n",
        "        temp_prior = np.array(self.priority)\n",
        "        max_prio =  temp_prior.max() if temp_prior.size!=0 else 1.0 # <--\n",
        "\n",
        "        self.priority.append(max_prio)\n",
        "\n",
        "    def sample(self, batch_size, beta=0.4):\n",
        "        batch_size = min(batch_size, len(self)) # Get all the samples if the requested batch_size is higher than the number of sample currently in the memory\n",
        "\n",
        "        prios = np.array(self.priority)\n",
        "\n",
        "        probs = prios**(self.alpha)\n",
        "        probs = np.array(probs, dtype=\"float64\")\n",
        "        probs /= probs.sum()\n",
        "\n",
        "        \n",
        "\n",
        "        indices = np.random.choice(len(self.memory), batch_size, p=probs)\n",
        "        samples = [self.memory[idx] for idx in indices]\n",
        "\n",
        "        total = len(self.memory)\n",
        "        weights = (total*(probs[indices]))**(-beta)\n",
        "        weights /= weights.max()\n",
        "        weights = torch.tensor(weights, dtype=torch.float32)\n",
        "\n",
        "        batch       = list(zip(*samples))\n",
        "        states      = torch.cat(tuple([s for s in batch[0]]),0)\n",
        "        actions     = torch.tensor(batch[1], dtype=torch.int64)\n",
        "        next_states = torch.cat(tuple([s for s in batch[2] if s is not None]),0)\n",
        "        rewards     = torch.tensor(batch[3], dtype=torch.float32)\n",
        "        non_final_mask = torch.tensor([s is not None for s in batch[2]], dtype=torch.bool)\n",
        "\n",
        "        return (states, actions, next_states, rewards, non_final_mask), weights, indices # Randomly select \"batch_size\" samples\n",
        "\n",
        "    def update_priorities(self, batch_indices, batch_priorities):\n",
        "        for idx, prio in zip(batch_indices, batch_priorities):\n",
        "            self.priority[idx] = prio\n",
        "\n",
        "    def __len__(self):\n",
        "        return len(self.memory) # Return the number of samples currently stored in the memory"
      ],
      "execution_count": null,
      "outputs": []
    },
    {
      "cell_type": "markdown",
      "metadata": {
        "id": "RLGCkH9Mp0ql"
      },
      "source": [
        "Definition of simple experience replay (ER) memory."
      ]
    },
    {
      "cell_type": "code",
      "metadata": {
        "id": "N2uTqqviiZ4D"
      },
      "source": [
        "class ReplayMemory2(object):\n",
        "\n",
        "    def __init__(self, capacity):\n",
        "        self.memory = deque(maxlen=capacity) # Define a queue with maxlen \"capacity\"\n",
        "\n",
        "    def push(self, state, action, next_state, reward):\n",
        "        self.memory.append( (state, action, next_state, reward) ) # Add the tuple (state, action, next_state, reward) to the queue\n",
        "\n",
        "    def sample(self, batch_size):\n",
        "        batch_size = min(batch_size, len(self)) # Get all the samples if the requested batch_size is higher than the number of sample currently in the memory\n",
        "\n",
        "        indices = np.random.choice(len(self.memory), batch_size)\n",
        "        samples = [self.memory[idx] for idx in indices]\n",
        "\n",
        "        batch       = list(zip(*samples))\n",
        "        states      = torch.cat(tuple([s for s in batch[0]]),0)\n",
        "        actions     = torch.tensor(batch[1], dtype=torch.int64)\n",
        "        next_states = torch.cat(tuple([s for s in batch[2] if s is not None]),0)\n",
        "        rewards     = torch.tensor(batch[3], dtype=torch.float32)\n",
        "        non_final_mask = torch.tensor([s is not None for s in batch[2]], dtype=torch.bool)\n",
        "\n",
        "        return (states, actions, next_states, rewards, non_final_mask) # Randomly select \"batch_size\" samples\n",
        "\n",
        "    def __len__(self):\n",
        "        return len(self.memory) # Return the number of samples currently stored in the memory"
      ],
      "execution_count": null,
      "outputs": []
    },
    {
      "cell_type": "markdown",
      "metadata": {
        "id": "_LBc6T92RmX8"
      },
      "source": [
        "Definition of the optimal policy and transformations to apply to the input batch."
      ]
    },
    {
      "cell_type": "code",
      "metadata": {
        "id": "K4TKy43z_JpL"
      },
      "source": [
        "def bw(img):\n",
        "  new_img = torch.zeros(img.shape, dtype=torch.int64)\n",
        "  img_mx = img.max()\n",
        "  new_img[img<img_mx]=254\n",
        "\n",
        "  return new_img\n",
        "\n",
        "class BW(object):\n",
        "\n",
        "  def __init__(self):\n",
        "    pass\n",
        "\n",
        "  def __call__(self,img):\n",
        "    return bw(img)\n",
        "##############################################################\n",
        "\n",
        "def CartCent(img):\n",
        "  img = img.squeeze()\n",
        "  Cart = torch.nonzero(img[-1,:]).squeeze()\n",
        "\n",
        "  left_edge = torch.min(Cart)-5\n",
        "  right_edge = torch.max(Cart)+5\n",
        "\n",
        "  img = img[:,left_edge:right_edge]\n",
        "  img = torch.cat((img,torch.zeros((124,60-img.shape[1]))), dim=1)\n",
        "\n",
        "  pos = ((4.8/600)*(torch.min(Cart)+torch.max(Cart)+1)/2)-2.4  # position\n",
        "\n",
        "  return img.unsqueeze(dim=0).unsqueeze(dim=0), pos\n",
        "\n",
        "\n",
        "class Cart(object):\n",
        "\n",
        "  def __init__(self):\n",
        "    pass\n",
        "\n",
        "  def __call__(self, img):\n",
        "    return CartCent(img)"
      ],
      "execution_count": null,
      "outputs": []
    },
    {
      "cell_type": "code",
      "metadata": {
        "id": "AvS80DgDRwi9"
      },
      "source": [
        "state_col = transforms.Compose([\n",
        "                                transforms.Grayscale(num_output_channels=1),\n",
        "                                BW(),\n",
        "                                transforms.Pad((5,0,5,50)),\n",
        "                                transforms.CenterCrop((124,610)),\n",
        "                                Cart()\n",
        "                                ])"
      ],
      "execution_count": null,
      "outputs": []
    },
    {
      "cell_type": "code",
      "metadata": {
        "id": "DLgww_ZwVvtO",
        "colab": {
          "base_uri": "https://localhost:8080/",
          "height": 268
        },
        "outputId": "9a37c051-6348-41cd-e7c9-a93ef773e8d2"
      },
      "source": [
        "env = gym.make('CartPole-v1')\n",
        "env.reset()\n",
        "img = env.render(mode=\"rgb_array\")\n",
        "img = torch.tensor(np.array(img))\n",
        "img = img.permute(2,0,1)\n",
        "img, pos = state_col(img)\n",
        "plt.imshow(img.squeeze().numpy(), cmap=\"gray\")\n",
        "plt.show()\n",
        "plt.close()"
      ],
      "execution_count": null,
      "outputs": [
        {
          "output_type": "display_data",
          "data": {
            "image/png": "[encoded data removed]",
            "text/plain": [
              "<Figure size 432x288 with 1 Axes>"
            ]
          },
          "metadata": {
            "tags": [],
            "needs_background": "light"
          }
        }
      ]
    },
    {
      "cell_type": "code",
      "metadata": {
        "id": "DxToYS_-8ooj"
      },
      "source": [
        "def choose_action_epsilon_greedy(net, state, epsilon):\n",
        "    \n",
        "    if epsilon > 1 or epsilon < 0:\n",
        "        raise Exception('Epsilon value must be between 0 and 1')\n",
        "                \n",
        "    net.to(device)\n",
        "    state=state.to(device)\n",
        "    with torch.no_grad():\n",
        "        net.eval()\n",
        "        state = torch.tensor(state, dtype=torch.float32)\n",
        "        net_out = net(state)\n",
        "\n",
        "    best_action = int(net_out.argmax())\n",
        "    # Get the number of possible actions\n",
        "    action_space_dim = net_out.shape[-1]\n",
        "\n",
        "    # Select a non optimal action with probability epsilon, otherwise choose the best action\n",
        "    if random.random() < epsilon:\n",
        "        non_optimal_actions = [a for a in range(action_space_dim) if a != best_action]\n",
        "        action = random.choice(non_optimal_actions)\n",
        "    else:\n",
        "        action = best_action\n",
        "        \n",
        "    return action, net_out.cpu().numpy()"
      ],
      "execution_count": null,
      "outputs": []
    },
    {
      "cell_type": "code",
      "metadata": {
        "id": "wbmVGvEQ8jK_"
      },
      "source": [
        "def choose_action_softmax(net, state, temperature):\n",
        "    \n",
        "    if temperature < 0:\n",
        "        raise Exception('The temperature value must be greater than or equal to 0 ')\n",
        "        \n",
        "    # If the temperature is 0, just select the best action using the eps-greedy policy with epsilon = 0\n",
        "    if temperature == 0:\n",
        "        return choose_action_epsilon_greedy(net, state, 0)\n",
        "    \n",
        "    # Evaluate the network output from the current state\n",
        "    with torch.no_grad():\n",
        "        net.eval()\n",
        "        #state = torch.tensor(state, dtype=torch.float32)\n",
        "        state = state.to(device)\n",
        "        net_out = net(state).squeeze()\n",
        "\n",
        "    # Apply softmax with temp\n",
        "    temperature = max(temperature, 1e-8) # set a minimum to the temperature for numerical stability\n",
        "    softmax_out = nn.functional.softmax(net_out / temperature, dim=0).cpu().numpy()\n",
        "                \n",
        "    # Sample the action using softmax output as mass pdf\n",
        "    all_possible_actions = np.arange(0, softmax_out.shape[-1])\n",
        "    action = np.random.choice(all_possible_actions, p=softmax_out) # this samples a random element from \"all_possible_actions\" with the probability distribution p (softmax_out in this case)\n",
        "    \n",
        "    return action, net_out.cpu().numpy()"
      ],
      "execution_count": null,
      "outputs": []
    },
    {
      "cell_type": "markdown",
      "metadata": {
        "id": "YX9Ki1SsTkUw"
      },
      "source": [
        "## Network\n",
        "Definition of a network containing convolutional layers and two LSTM layers processing the input image and returning a new state."
      ]
    },
    {
      "cell_type": "code",
      "metadata": {
        "id": "dj1jgTQn76ap"
      },
      "source": [
        "n_iter=500\n",
        "ini_temperature=5\n",
        "\n",
        "def explr_pr(alpha, dil):\n",
        "  global n_iter, ini_temperature\n",
        "  exp_decay = np.exp(-np.log(ini_temperature) / n_iter * 8)\n",
        "  beta_start = 0.4\n",
        "\n",
        "  explor_prof_greedy=[(np.exp(-alpha*i), min(1.0, beta_start + i * (1.0 - beta_start) / n_iter)) for i in range(n_iter)]\n",
        "  #explor_prof_soft=[(ini_temperature*((2**((-ini_temperature*i)/n_iter))**(i*dil/n_iter)), min(1.0, beta_start + i * (1.0 - beta_start) / n_iter)) for i in range(n_iter)]\n",
        "  explor_prof_soft = [(ini_temperature * (exp_decay ** i), min(1.0, beta_start + i * (1.0 - beta_start) / n_iter)) for i in range(n_iter)]\n",
        "  \n",
        "  return explor_prof_greedy, explor_prof_soft"
      ],
      "execution_count": null,
      "outputs": []
    },
    {
      "cell_type": "code",
      "metadata": {
        "id": "y_Vudv8c9sL3"
      },
      "source": [
        "class DQN(nn.Module):\n",
        "\n",
        "  def __init__(self, action_space_dim):\n",
        "    super().__init__()\n",
        "\n",
        "    self.conv=nn.Sequential(\n",
        "        nn.Conv2d(4,4, kernel_size=3, stride=1, padding=1, groups=2),\n",
        "        nn.ReLU(),\n",
        "        nn.Conv2d(4,2, kernel_size=3, stride=1, padding=1, groups=2),\n",
        "        nn.ReLU(),\n",
        "        nn.Conv2d(2,2,kernel_size=3, stride=2),\n",
        "        nn.ReLU()\n",
        "        )\n",
        "    \n",
        "    self.flatten=nn.Flatten(start_dim=1)\n",
        "\n",
        "    self.lin=nn.Sequential(\n",
        "        nn.Linear(3538,1024),\n",
        "        nn.ReLU(),\n",
        "        nn.Linear(1024,256),\n",
        "        nn.ReLU(),\n",
        "        nn.Linear(256,64)\n",
        "        )\n",
        "    \n",
        "    # Uncomment the following code, and adjust the above linear layer for a Dueling DQN\n",
        "\n",
        "    self.val=nn.Sequential(\n",
        "        nn.Linear(64,1),\n",
        "        #nn.Softmax()\n",
        "        )\n",
        "    \n",
        "    self.adv=nn.Sequential(\n",
        "        nn.Linear(64,action_space_dim),\n",
        "        #nn.Softmax()\n",
        "        )\n",
        "\n",
        "  def forward(self, x):\n",
        "\n",
        "    x = self.conv(x)\n",
        "    x = self.flatten(x)\n",
        "    x = self.lin(x)\n",
        "\n",
        "    # Dueling DQN\n",
        "    val = self.val(x)\n",
        "    adv = self.adv(x)\n",
        "    x = val + (adv - torch.mean(adv, dim=1, keepdim=True))\n",
        "\n",
        "    return x"
      ],
      "execution_count": null,
      "outputs": []
    },
    {
      "cell_type": "code",
      "metadata": {
        "id": "quo3ZbJA8ChH"
      },
      "source": [
        "# Random seeds\n",
        "torch.manual_seed(0)\n",
        "np.random.seed(0)\n",
        "random.seed(0)\n",
        "\n",
        "# PARAMETERS\n",
        "gamma = 0.98   # LongTerm reward\n",
        "replay_memory_capacity = 10000   # Replay memory capacity\n",
        "lr = 1e-4   # Optimizer learning rate\n",
        "#weight_decay=1e-6\n",
        "target_net_update_steps = 9   # Number of episodes to wait before updating the target network\n",
        "batch_size = 200   # Number of samples to take from the replay memory for each update\n",
        "bad_state_penalty = -50  # Penalty to the reward when we are in a bad state (in this case when the pole falls down) \n",
        "min_samples_for_training = 1000   # Minimum samples in the replay memory to enable the training\n",
        "\n",
        "scores = []\n",
        "trends = []"
      ],
      "execution_count": null,
      "outputs": []
    },
    {
      "cell_type": "code",
      "metadata": {
        "id": "sFbQ9g_d8NB4"
      },
      "source": [
        "### Initialize the replay memory\n",
        "replay_mem = ReplayMemory2(replay_memory_capacity)    \n",
        "\n",
        "### Initialize the policy network\n",
        "policy_net = DQN(action_space_dim)\n",
        "\n",
        "### Initialize the target network with the same weights of the policy network\n",
        "target_net = DQN(action_space_dim)\n",
        "target_net.load_state_dict(policy_net.state_dict()) # This will copy the weights of the policy network to the target network\n",
        "\n",
        "policy_net.to(device)\n",
        "target_net.to(device)\n",
        "\n",
        "### Initialize the optimizer\n",
        "optimizer = torch.optim.Adam(policy_net.parameters(), lr=lr) # The optimizer will update ONLY the parameters of the policy network\n",
        "\n",
        "### Initialize the loss function (Huber loss)\n",
        "loss_fn = nn.SmoothL1Loss()"
      ],
      "execution_count": null,
      "outputs": []
    },
    {
      "cell_type": "markdown",
      "metadata": {
        "id": "SwS8VlF4CG4m"
      },
      "source": [
        "Definition of a wrapper for our environment, useful for the concatenation of frames."
      ]
    },
    {
      "cell_type": "code",
      "metadata": {
        "id": "ykMlbtz7CGiG"
      },
      "source": [
        "class NewEnv(gym.Wrapper):\n",
        "\n",
        "  def __init__(self, env, k):\n",
        "    gym.Wrapper.__init__(self, env)\n",
        "    self.k = k\n",
        "    self.observation_space = spaces.Box(low=0, high=255, shape=((k,)+(1,124,60)), dtype=env.observation_space.dtype)\n",
        "    self.state=torch.zeros(self.observation_space.shape)\n",
        "\n",
        "  def reset(self):\n",
        "    _ = env.reset()\n",
        "    img = self.env.render(mode=\"rgb_array\")\n",
        "    img = torch.tensor(np.array(img), dtype=torch.float32)\n",
        "    img = img.permute(2,0,1)\n",
        "    img, _ = state_col(img)\n",
        "    state = torch.cat([img]*self.k, dim=1)\n",
        "    self.state = state\n",
        "\n",
        "    return state\n",
        "\n",
        "  def step(self, action):\n",
        "\n",
        "    ob, reward, done, info = self.env.step(action)\n",
        "    img = self.env.render(mode=\"rgb_array\")\n",
        "    img = torch.tensor(np.array(img), dtype=torch.float32)\n",
        "    img = img.permute(2,0,1)\n",
        "    img, pos = state_col(img)\n",
        "\n",
        "    next_state = torch.roll(self.state, 1, 1)\n",
        "    next_state[:,0,:,:]= img\n",
        "\n",
        "    self.state = next_state\n",
        "\n",
        "    return next_state, pos, reward, done, info"
      ],
      "execution_count": null,
      "outputs": []
    },
    {
      "cell_type": "code",
      "metadata": {
        "id": "KeC7K-9w8GXZ"
      },
      "source": [
        "def update_step(policy_net, target_net, replay_mem, gamma, optimizer, loss_fn, batch_size, beta):\n",
        "\n",
        "    # For PER, initialize ReplayMemory instead of ReplayMemory2\n",
        "\n",
        "    # Sample the data from the replay memory\n",
        "    #batch, wt, indices = replay_mem.sample(batch_size, beta)                    # PER\n",
        "    #wt = wt.unsqueeze(dim=1).to(device)                                         # PER\n",
        "    batch = replay_mem.sample(batch_size)                                      # Simple ER\n",
        "    batch_size = len(batch[0])                                                  \n",
        "    \n",
        "    \n",
        "    # Create tensors for each element of the batch\n",
        "    states = batch[0].to(device)                                                                                              \n",
        "    actions = batch[1].to(device)                                                                                             \n",
        "    rewards = batch[3].to(device)                                                                                             \n",
        "\n",
        "    # Compute a mask of non-final states (all the elements where the next state is not None)\n",
        "    non_final_next_states = batch[2].to(device)                                                         \n",
        "    non_final_mask = batch[4].to(device)\n",
        "\n",
        "    # Compute all the Q values (forward pass)\n",
        "    policy_net.train()\n",
        "    q_values = policy_net(states.squeeze())\n",
        "    # Select the proper Q value for the corresponding action taken Q(s_t, a)\n",
        "    state_action_values = q_values.gather(1, actions.unsqueeze(1))\n",
        "\n",
        "    # Compute the value function of the next states using the target network V(s_{t+1}) = max_a( Q_target(s_{t+1}, a)) )\n",
        "    with torch.no_grad():\n",
        "      target_net.eval()\n",
        "      q_values_target = target_net(non_final_next_states.squeeze())\n",
        "    next_state_max_q_values = torch.zeros(batch_size).to(device)\n",
        "    next_state_max_q_values[non_final_mask] = q_values_target.max(dim=1)[0]\n",
        "\n",
        "    # Compute the expected Q values\n",
        "    expected_state_action_values = rewards + (next_state_max_q_values * gamma)\n",
        "    expected_state_action_values = expected_state_action_values.unsqueeze(1) # Set the required tensor shape\n",
        "\n",
        "    # Compute the Huber loss\n",
        "    loss = loss_fn(state_action_values, expected_state_action_values)\n",
        "    #batch_loss = torch.mul((state_action_values-expected_state_action_values)**(2),wt)                                        # PER\n",
        "    #prios = batch_loss.detach().cpu().numpy() + 1e-5                                                                          # PER\n",
        "\n",
        "    # Optimize the model\n",
        "    optimizer.zero_grad()\n",
        "    loss.backward()\n",
        "    # Apply gradient clipping (clip all the gradients greater than 2 for training stability)\n",
        "    nn.utils.clip_grad_norm_(policy_net.parameters(), 2)\n",
        "    #replay_mem.update_priorities(indices, prios)                                                                               # PER\n",
        "    optimizer.step()"
      ],
      "execution_count": null,
      "outputs": []
    },
    {
      "cell_type": "code",
      "metadata": {
        "id": "hiXzRtyc8HcS",
        "colab": {
          "base_uri": "https://localhost:8080/",
          "height": 219,
          "referenced_widgets": [
            "b2505316a903404d8f354d63647b1dae",
            "8f0e81dfb2f7481d9ef9a160f302d86d",
            "a1fc6a2f879243a1a2f6dbda95ef610f",
            "19dd68c6cd3e4f81b3ccc89d0c9ba4c4",
            "17f6eb10c43b40669a5ad50182c27c98",
            "4762d47fa0834728b6d5081848ec5d9c",
            "cf4e0ea0ef744023a12f2a596a8feeac",
            "f54d152ed8ad420ea64b6d4d0fd07fb0"
          ]
        },
        "outputId": "e7ebf0ad-0ed9-451c-a187-f5a0ccd3c6c9"
      },
      "source": [
        "# Initialize the Gym environment\n",
        "env = gym.make('CartPole-v1') \n",
        "action_space_dim=env.action_space.n\n",
        "env.seed(0) # Set a random seed for the environment (reproducible results)\n",
        "# This is for creating the output video in Colab, not required outside Colab\n",
        "env = wrap_env(env, video_callable=lambda episode_id: episode_id % 100 == 0) # Save a video every 100 episodes\n",
        "wrapd_env = NewEnv(env, 4)\n",
        "\n",
        "\n",
        "Models = []\n",
        "# Definition of the values for dilation factors\n",
        "alpha=[0.02]\n",
        "dil=[75]\n",
        "pol=\"soft\"\n",
        "\n",
        "for j in range(1):\n",
        "  explor_prof_greedy, explor_prof_soft = explr_pr(alpha[j],dil[j])\n",
        "  if pol==\"soft\":\n",
        "    exploration_profile = explor_prof_soft\n",
        "  elif pol==\"greedy\":\n",
        "    exploration_profile = explor_prof_greedy\n",
        "  for episode_num, (tau, b) in enumerate(tqdm(exploration_profile)):\n",
        "\n",
        "      # Reset the environment and get the initial state\n",
        "      state = wrapd_env.reset()\n",
        "      # Reset the score. The final score will be the total amount of steps before the pole falls\n",
        "      score = 0\n",
        "      done = False\n",
        "\n",
        "      # Go on until the pole falls off\n",
        "      while not done:\n",
        "        \n",
        "        # Choose the action following the policy\n",
        "        if pol==\"soft\":\n",
        "          action, q_values = choose_action_softmax(policy_net, state, temperature=tau)\n",
        "        elif pol==\"greedy\":\n",
        "          action, q_values = choose_action_epsilon_greedy(policy_net, state, epsilon=tau)\n",
        "      \n",
        "        # Apply the action and get the next state, the reward and a flag \"done\" that is True if the game is ended\n",
        "        next_state, state_pos, reward, done, info = wrapd_env.step(action)\n",
        "\n",
        "        # We apply a (linear) penalty when the cart is far from center\n",
        "        pos_weight = 1.5\n",
        "        reward = reward - pos_weight * np.abs(pos)\n",
        "\n",
        "        # Update the final score (+1 for each step)\n",
        "        score += 1\n",
        "\n",
        "        # Apply penalty for bad state\n",
        "        if done: # if the pole has fallen down \n",
        "            reward += bad_state_penalty\n",
        "            next_state = None\n",
        "\n",
        "        # Update the replay memory\n",
        "        replay_mem.push(state, action, next_state, reward)\n",
        "\n",
        "        # Update the network\n",
        "        if len(replay_mem) > min_samples_for_training: # we enable the training only if we have enough samples in the replay memory, otherwise the training will use the same samples too often\n",
        "            update_step(policy_net, target_net, replay_mem, gamma, optimizer, loss_fn, batch_size, b)\n",
        "\n",
        "        # Set the current state for the next iteration\n",
        "        state = next_state\n",
        "\n",
        "      scores.append(score)\n",
        "      trends.append(sum(scores[-30:])/min(len(scores),30))\n",
        "      # Update the target network every target_net_update_steps episodes\n",
        "      if episode_num % target_net_update_steps == 0:\n",
        "          print('Updating target network...')\n",
        "          target_net.load_state_dict(policy_net.state_dict()) # This will copy the weights of the policy network to the target network\n",
        "\n",
        "      # Print the final score\n",
        "      if pol==\"soft\":\n",
        "        print(f\"EPISODE: {episode_num + 1} - FINAL SCORE: {score} - Temperature: {tau}\")\n",
        "      elif pol==\"greedy\":\n",
        "        print(f\"EPISODE: {episode_num + 1} - FINAL SCORE: {score} - Epsilon: {tau}\")\n",
        "    \n",
        "      # Early Stop Condition\n",
        "      early_stop=0\n",
        "      if episode_num>50:\n",
        "        early_stop=np.mean(scores[-5:])\n",
        "      if episode_num==(n_iter-1) or early_stop>450:\n",
        "        model={\"policy\":pol, \"episode\":episode_num, \"alpha\":alpha[j], \"dil\":dil[j]}\n",
        "        Models.append(model)\n",
        "        name=\"Policy_param_\"+pol+\"_\"+str(j)+\".pth\"\n",
        "        torch.save(policy_net.state_dict(),name)\n",
        "      if episode_num>50:\n",
        "        if early_stop>450:\n",
        "            break\n",
        "\n",
        "  print(\"---------------------------------------------------------\")\n",
        "  print()\n",
        "  print(\"---------------------------------------------------------\")\n",
        "\n",
        "  env.close()"
      ],
      "execution_count": null,
      "outputs": [
        {
          "output_type": "display_data",
          "data": {
            "application/vnd.jupyter.widget-view+json": {
              "model_id": "b2505316a903404d8f354d63647b1dae",
              "version_minor": 0,
              "version_major": 2
            },
            "text/plain": [
              "HBox(children=(FloatProgress(value=0.0, max=500.0), HTML(value='')))"
            ]
          },
          "metadata": {
            "tags": []
          }
        },
        {
          "output_type": "stream",
          "text": [
            "Updating target network...\n",
            "EPISODE: 1 - FINAL SCORE: 69 - Temperature: 5.0\n",
            "EPISODE: 2 - FINAL SCORE: 20 - Temperature: 4.872888614111293\n",
            "EPISODE: 3 - FINAL SCORE: 52 - Temperature: 4.749008689107096\n",
            "EPISODE: 4 - FINAL SCORE: 100 - Temperature: 4.628278073893113\n",
            "EPISODE: 5 - FINAL SCORE: 70 - Temperature: 4.510616705842939\n",
            "EPISODE: 6 - FINAL SCORE: 27 - Temperature: 4.395946557704449\n",
            "EPISODE: 7 - FINAL SCORE: 16 - Temperature: 4.2841915858559485\n",
            "EPISODE: 8 - FINAL SCORE: 14 - Temperature: 4.175277679877772\n",
            "EPISODE: 9 - FINAL SCORE: 69 - Temperature: 4.069132613405882\n"
          ],
          "name": "stdout"
        }
      ]
    },
    {
      "cell_type": "code",
      "metadata": {
        "colab": {
          "base_uri": "https://localhost:8080/",
          "height": 1000
        },
        "id": "UR-ta-Rtnh-w",
        "outputId": "01b3a84c-52b6-409e-e390-5536cc8453f2"
      },
      "source": [
        "ax = range(len(scores))\n",
        "plt.figure(figsize=(15,10))\n",
        "plt.plot(ax, scores, marker=\"o\", color=\"purple\", linestyle=\"\", label=\"Score (single episode)\")\n",
        "plt.plot(ax, trends, linestyle=\"dashed\", color=\"blue\", label=\"Score (trend)\")\n",
        "plt.xlabel(\"Episodes\")\n",
        "plt.ylabel(\"Score\")\n",
        "plt.legend()\n",
        "plt.show()\n",
        "plt.close()\n",
        "\n",
        "plt.figure(figsize=(15,10))\n",
        "plt.hist(scores, bins=20, color=\"green\")\n",
        "plt.xlabel(\"Score\")\n",
        "plt.ylabel(\"Frequencies\")\n",
        "plt.show()"
      ],
      "execution_count": null,
      "outputs": [
        {
          "output_type": "display_data",
          "data": {
            "image/png": "[encoded data removed]",
            "text/plain": [
              "<Figure size 1080x720 with 1 Axes>"
            ]
          },
          "metadata": {
            "tags": [],
            "needs_background": "light"
          }
        },
        {
          "output_type": "display_data",
          "data": {
            "image/png": "[encoded data removed]",
            "text/plain": [
              "<Figure size 1080x720 with 1 Axes>"
            ]
          },
          "metadata": {
            "tags": [],
            "needs_background": "light"
          }
        }
      ]
    },
    {
      "cell_type": "code",
      "metadata": {
        "id": "dUtlO8umrQW2",
        "colab": {
          "base_uri": "https://localhost:8080/",
          "height": 1000
        },
        "outputId": "749b0a73-d999-468e-b5af-2abe01224471"
      },
      "source": [
        "# Display the videos, not required outside Colab\n",
        "show_videos()"
      ],
      "execution_count": null,
      "outputs": [
        {
          "output_type": "stream",
          "text": [
            "\n",
            "SHOWING VIDEO video/openaigym.video.0.1945.video000000.mp4\n"
          ],
          "name": "stdout"
        },
        {
          "output_type": "display_data",
          "data": {
            "text/html": [
              "<video alt=\"test\" autoplay \n",
              "                loop controls style=\"height: 400px;\">\n",
              "                <source src=\"data:video/mp4;base64,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\" type=\"video/mp4\" />\n",
              "             </video>"
            ],
            "text/plain": [
              "<IPython.core.display.HTML object>"
            ]
          },
          "metadata": {
            "tags": []
          }
        },
        {
          "output_type": "stream",
          "text": [
            "\n",
            "SHOWING VIDEO video/openaigym.video.0.1945.video000100.mp4\n"
          ],
          "name": "stdout"
        },
        {
          "output_type": "display_data",
          "data": {
            "text/html": [
              "<video alt=\"test\" autoplay \n",
              "                loop controls style=\"height: 400px;\">\n",
              "                <source src=\"data:video/mp4;base64,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\" type=\"video/mp4\" />\n",
              "             </video>"
            ],
            "text/plain": [
              "<IPython.core.display.HTML object>"
            ]
          },
          "metadata": {
            "tags": []
          }
        },
        {
          "output_type": "stream",
          "text": [
            "\n",
            "SHOWING VIDEO video/openaigym.video.0.1945.video000200.mp4\n"
          ],
          "name": "stdout"
        },
        {
          "output_type": "display_data",
          "data": {
            "text/html": [
              "<video alt=\"test\" autoplay \n",
              "                loop controls style=\"height: 400px;\">\n",
              "                <source src=\"data:video/mp4;base64,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\" type=\"video/mp4\" />\n",
              "             </video>"
            ],
            "text/plain": [
              "<IPython.core.display.HTML object>"
            ]
          },
          "metadata": {
            "tags": []
          }
        },
        {
          "output_type": "stream",
          "text": [
            "\n",
            "SHOWING VIDEO video/openaigym.video.0.1945.video000300.mp4\n"
          ],
          "name": "stdout"
        },
        {
          "output_type": "display_data",
          "data": {
            "text/html": [
              "<video alt=\"test\" autoplay \n",
              "                loop controls style=\"height: 400px;\">\n",
              "                <source src=\"data:video/mp4;base64,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\" type=\"video/mp4\" />\n",
              "             </video>"
            ],
            "text/plain": [
              "<IPython.core.display.HTML object>"
            ]
          },
          "metadata": {
            "tags": []
          }
        },
        {
          "output_type": "stream",
          "text": [
            "\n",
            "SHOWING VIDEO video/openaigym.video.0.1945.video000400.mp4\n"
          ],
          "name": "stdout"
        },
        {
          "output_type": "display_data",
          "data": {
            "text/html": [
              "<video alt=\"test\" autoplay \n",
              "                loop controls style=\"height: 400px;\">\n",
              "                <source src=\"data:video/mp4;base64,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\" type=\"video/mp4\" />\n",
              "             </video>"
            ],
            "text/plain": [
              "<IPython.core.display.HTML object>"
            ]
          },
          "metadata": {
            "tags": []
          }
        }
      ]
    },
    {
      "cell_type": "markdown",
      "metadata": {
        "id": "yxYXR9VUqqEc"
      },
      "source": [
        "## Testing"
      ]
    },
    {
      "cell_type": "code",
      "metadata": {
        "id": "vJe9C4Y-qpga",
        "colab": {
          "base_uri": "https://localhost:8080/",
          "height": 1000
        },
        "outputId": "c3ac44ef-303e-414d-f532-34392e31e117"
      },
      "source": [
        "# Initialize the Gym environment\n",
        "env = gym.make('CartPole-v1') \n",
        "env.seed(1) # Set a random seed for the environment (reproducible results)\n",
        "env = wrap_env(env, video_callable=lambda episode_id: True) # Save a video every episode\n",
        "wrapd_env = NewEnv(env, 4)\n",
        "\n",
        "mean_scores=[]\n",
        "\n",
        "# Let's try for a total of 10 episodes\n",
        "for j in range(1):\n",
        "  policy_test=DQN(action_space_dim)\n",
        "  name=\"Policy_param_\"+pol+\"_\"+str(j)+\".pth\"\n",
        "  policy_test.load_state_dict(torch.load(name))\n",
        "  score_m=[]\n",
        "  for num_episode in range(10): \n",
        "      # Reset the environment and get the initial state\n",
        "      state = wrapd_env.reset()\n",
        "      # Reset the score. The final score will be the total amount of steps before the pole falls\n",
        "      score = 0\n",
        "      done = False\n",
        "      # Go on until the pole falls off or the score reach 490\n",
        "      while not done:\n",
        "        # Choose the best action (temperature 0)\n",
        "        action, q_values = choose_action_softmax(policy_net, state, temperature=0)\n",
        "        # Apply the action and get the next state, the reward and a flag \"done\" that is True if the game is ended\n",
        "        next_state, pos, reward, done, info = wrapd_env.step(action)\n",
        "        # Update the final score (+1 for each step)\n",
        "        score += reward \n",
        "        # Set the current state for the next iteration\n",
        "        state = next_state\n",
        "        # Check if the episode ended (the pole fell down)\n",
        "      # Print the final score\n",
        "      score_m.append(score)\n",
        "      print(f\"EPISODE {num_episode + 1} - FINAL SCORE: {score}\")\n",
        "      if num_episode==9:\n",
        "        mean_scores.append(np.mean(score_m))\n",
        "  print(\"----------------------------------------------------------\")\n",
        "  print()\n",
        "  print(\"----------------------------------------------------------\")\n",
        "env.close()\n",
        "\n",
        "for j in range(1):\n",
        "  print(Models[j])\n",
        "  print(\"FINAL MEAN SCORE: \"+str(mean_scores[j]))\n",
        "  explor_prof_greedy, explor_prof_soft = explr_pr(alpha[j],dil[j])\n",
        "\n",
        "  plt.figure(figsize=(12,8))\n",
        "  if pol==\"greedy\":\n",
        "    plt.plot(explor_prof_greedy)\n",
        "  elif pol==\"soft\":\n",
        "    plt.plot(explor_prof_soft)\n",
        "  plt.grid()\n",
        "  plt.xlabel(\"Iterations\")\n",
        "  plt.ylabel(\"Exploration Profiles\")\n",
        "  plt.show()\n",
        "\n",
        "  print(\"----------------------------------------------------------\")\n",
        "  print()\n",
        "  print(\"----------------------------------------------------------\")"
      ],
      "execution_count": null,
      "outputs": [
        {
          "output_type": "stream",
          "text": [
            "/usr/local/lib/python3.6/dist-packages/ipykernel_launcher.py:10: UserWarning: To copy construct from a tensor, it is recommended to use sourceTensor.clone().detach() or sourceTensor.clone().detach().requires_grad_(True), rather than torch.tensor(sourceTensor).\n",
            "  # Remove the CWD from sys.path while we load stuff.\n"
          ],
          "name": "stderr"
        },
        {
          "output_type": "stream",
          "text": [
            "EPISODE 1 - FINAL SCORE: 163.0\n"
          ],
          "name": "stdout"
        },
        {
          "output_type": "stream",
          "text": [
            "/usr/local/lib/python3.6/dist-packages/ipykernel_launcher.py:10: UserWarning: To copy construct from a tensor, it is recommended to use sourceTensor.clone().detach() or sourceTensor.clone().detach().requires_grad_(True), rather than torch.tensor(sourceTensor).\n",
            "  # Remove the CWD from sys.path while we load stuff.\n"
          ],
          "name": "stderr"
        },
        {
          "output_type": "stream",
          "text": [
            "EPISODE 2 - FINAL SCORE: 157.0\n"
          ],
          "name": "stdout"
        },
        {
          "output_type": "stream",
          "text": [
            "/usr/local/lib/python3.6/dist-packages/ipykernel_launcher.py:10: UserWarning: To copy construct from a tensor, it is recommended to use sourceTensor.clone().detach() or sourceTensor.clone().detach().requires_grad_(True), rather than torch.tensor(sourceTensor).\n",
            "  # Remove the CWD from sys.path while we load stuff.\n"
          ],
          "name": "stderr"
        },
        {
          "output_type": "stream",
          "text": [
            "EPISODE 3 - FINAL SCORE: 155.0\n"
          ],
          "name": "stdout"
        },
        {
          "output_type": "stream",
          "text": [
            "/usr/local/lib/python3.6/dist-packages/ipykernel_launcher.py:10: UserWarning: To copy construct from a tensor, it is recommended to use sourceTensor.clone().detach() or sourceTensor.clone().detach().requires_grad_(True), rather than torch.tensor(sourceTensor).\n",
            "  # Remove the CWD from sys.path while we load stuff.\n"
          ],
          "name": "stderr"
        },
        {
          "output_type": "stream",
          "text": [
            "EPISODE 4 - FINAL SCORE: 165.0\n"
          ],
          "name": "stdout"
        },
        {
          "output_type": "stream",
          "text": [
            "/usr/local/lib/python3.6/dist-packages/ipykernel_launcher.py:10: UserWarning: To copy construct from a tensor, it is recommended to use sourceTensor.clone().detach() or sourceTensor.clone().detach().requires_grad_(True), rather than torch.tensor(sourceTensor).\n",
            "  # Remove the CWD from sys.path while we load stuff.\n"
          ],
          "name": "stderr"
        },
        {
          "output_type": "stream",
          "text": [
            "EPISODE 5 - FINAL SCORE: 157.0\n"
          ],
          "name": "stdout"
        },
        {
          "output_type": "stream",
          "text": [
            "/usr/local/lib/python3.6/dist-packages/ipykernel_launcher.py:10: UserWarning: To copy construct from a tensor, it is recommended to use sourceTensor.clone().detach() or sourceTensor.clone().detach().requires_grad_(True), rather than torch.tensor(sourceTensor).\n",
            "  # Remove the CWD from sys.path while we load stuff.\n"
          ],
          "name": "stderr"
        },
        {
          "output_type": "stream",
          "text": [
            "EPISODE 6 - FINAL SCORE: 128.0\n"
          ],
          "name": "stdout"
        },
        {
          "output_type": "stream",
          "text": [
            "/usr/local/lib/python3.6/dist-packages/ipykernel_launcher.py:10: UserWarning: To copy construct from a tensor, it is recommended to use sourceTensor.clone().detach() or sourceTensor.clone().detach().requires_grad_(True), rather than torch.tensor(sourceTensor).\n",
            "  # Remove the CWD from sys.path while we load stuff.\n"
          ],
          "name": "stderr"
        },
        {
          "output_type": "stream",
          "text": [
            "EPISODE 7 - FINAL SCORE: 139.0\n"
          ],
          "name": "stdout"
        },
        {
          "output_type": "stream",
          "text": [
            "/usr/local/lib/python3.6/dist-packages/ipykernel_launcher.py:10: UserWarning: To copy construct from a tensor, it is recommended to use sourceTensor.clone().detach() or sourceTensor.clone().detach().requires_grad_(True), rather than torch.tensor(sourceTensor).\n",
            "  # Remove the CWD from sys.path while we load stuff.\n"
          ],
          "name": "stderr"
        },
        {
          "output_type": "stream",
          "text": [
            "EPISODE 8 - FINAL SCORE: 82.0\n"
          ],
          "name": "stdout"
        },
        {
          "output_type": "stream",
          "text": [
            "/usr/local/lib/python3.6/dist-packages/ipykernel_launcher.py:10: UserWarning: To copy construct from a tensor, it is recommended to use sourceTensor.clone().detach() or sourceTensor.clone().detach().requires_grad_(True), rather than torch.tensor(sourceTensor).\n",
            "  # Remove the CWD from sys.path while we load stuff.\n"
          ],
          "name": "stderr"
        },
        {
          "output_type": "stream",
          "text": [
            "EPISODE 9 - FINAL SCORE: 210.0\n"
          ],
          "name": "stdout"
        },
        {
          "output_type": "stream",
          "text": [
            "/usr/local/lib/python3.6/dist-packages/ipykernel_launcher.py:10: UserWarning: To copy construct from a tensor, it is recommended to use sourceTensor.clone().detach() or sourceTensor.clone().detach().requires_grad_(True), rather than torch.tensor(sourceTensor).\n",
            "  # Remove the CWD from sys.path while we load stuff.\n"
          ],
          "name": "stderr"
        },
        {
          "output_type": "stream",
          "text": [
            "EPISODE 10 - FINAL SCORE: 117.0\n",
            "----------------------------------------------------------\n",
            "\n",
            "----------------------------------------------------------\n",
            "{'policy': 'soft', 'episode': 499, 'alpha': 0.02, 'dil': 75}\n",
            "FINAL MEAN SCORE: 147.3\n"
          ],
          "name": "stdout"
        },
        {
          "output_type": "display_data",
          "data": {
            "image/png": "[encoded data removed]",
            "text/plain": [
              "<Figure size 864x576 with 1 Axes>"
            ]
          },
          "metadata": {
            "tags": [],
            "needs_background": "light"
          }
        },
        {
          "output_type": "stream",
          "text": [
            "----------------------------------------------------------\n",
            "\n",
            "----------------------------------------------------------\n"
          ],
          "name": "stdout"
        }
      ]
    }
  ]
}